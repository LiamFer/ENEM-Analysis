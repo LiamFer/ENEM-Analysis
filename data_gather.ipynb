{
 "cells": [
  {
   "cell_type": "code",
   "execution_count": 15,
   "metadata": {},
   "outputs": [],
   "source": [
    "from time import sleep\n",
    "from selenium import webdriver\n",
    "from selenium.webdriver.common.by import By\n",
    "import os"
   ]
  },
  {
   "cell_type": "code",
   "execution_count": 149,
   "metadata": {},
   "outputs": [],
   "source": [
    "# Aqui eu fiz os clicks() com JavaScript porque aparentemente ele não falha\n",
    "def download():\n",
    "    driver = webdriver.Chrome(options=options)\n",
    "    driver.get(\"https://www.gov.br/inep/pt-br/acesso-a-informacao/dados-abertos/microdados/enem\")\n",
    "    \n",
    "    # Fechando o Popup que não deixava eu baixar os Microdados\n",
    "    sleep(2)\n",
    "    popup = driver.find_element(By.ID,\"barra-sso\").shadow_root.find_element(By.ID,\"sso-status-bar\").find_element(By.ID,\"govbr-login-overlay-wrapper\") #(By.CSS_SELECTOR,\"div.popup-login-overlay.msg-signed-out\")\n",
    "    driver.execute_script(\"arguments[0].click();\", popup)\n",
    "    \n",
    "    \n",
    "    # Selecionando e acessando os elementos que contém os microdados\n",
    "    main_box = driver.find_element(By.XPATH,r\"/html/body/div[2]/div[1]/main/div[2]/div/div[5]/div\")\n",
    "    microdatas = main_box.find_elements(By.TAG_NAME,'ul')\n",
    "\n",
    "    # Baixando os microdados de 1998 - 2022\n",
    "    for ul in microdatas:\n",
    "        microdata = ul.find_element(By.TAG_NAME,\"li\").find_element(By.TAG_NAME,\"a\")\n",
    "        driver.execute_script(\"arguments[0].click();\", microdata)"
   ]
  },
  {
   "cell_type": "code",
   "execution_count": 13,
   "metadata": {},
   "outputs": [],
   "source": [
    "# Configurações do Chrome pra baixar os arquivos\n",
    "options = webdriver.ChromeOptions()\n",
    "options.add_experimental_option(\"detach\", True)\n",
    "options.add_experimental_option(\"prefs\", {\n",
    "        \"download.default_directory\": os.getcwd() + r\"\\information\", # Setando a pasta information pra guardar os nossos downloads\n",
    "        \"download.prompt_for_download\": False,\n",
    "        \"download.directory_upgrade\": True,\n",
    "        \"safebrowsing_for_trusted_sources_enabled\": False,\n",
    "        \"safebrowsing.enabled\": False\n",
    "})\n",
    "#options.add_argument(\"--headless=new\")"
   ]
  },
  {
   "cell_type": "code",
   "execution_count": 150,
   "metadata": {},
   "outputs": [],
   "source": [
    "download()"
   ]
  }
 ],
 "metadata": {
  "kernelspec": {
   "display_name": "Python 3",
   "language": "python",
   "name": "python3"
  },
  "language_info": {
   "codemirror_mode": {
    "name": "ipython",
    "version": 3
   },
   "file_extension": ".py",
   "mimetype": "text/x-python",
   "name": "python",
   "nbconvert_exporter": "python",
   "pygments_lexer": "ipython3",
   "version": "3.11.0"
  }
 },
 "nbformat": 4,
 "nbformat_minor": 2
}
