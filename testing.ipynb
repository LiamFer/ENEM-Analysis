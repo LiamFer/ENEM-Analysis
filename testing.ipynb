{
 "cells": [
  {
   "cell_type": "code",
   "execution_count": 1,
   "metadata": {},
   "outputs": [],
   "source": [
    "import streamlit as st\n",
    "import plotly.express as px\n",
    "import pandas as pd\n",
    "import matplotlib.pyplot as plt\n",
    "import zipfile\n",
    "import os\n",
    "\n",
    "st.set_page_config(page_title=\"ENEM Analysis\",\n",
    "                   page_icon=\":bar_chart:\",\n",
    "                   layout=\"wide\")"
   ]
  },
  {
   "cell_type": "code",
   "execution_count": 15,
   "metadata": {},
   "outputs": [],
   "source": [
    "def build_dataframe():\n",
    "    # Arrays e dicionários úteis\n",
    "    columns = [\"NU_ANO\",\"TP_NACIONALIDADE\",\"TP_SEXO\",\"TP_FAIXA_ETARIA\",\"TP_COR_RACA\",\"TP_ESTADO_CIVIL\",\n",
    "            \"TP_ST_CONCLUSAO\",\"TP_ESCOLA\",\"IN_TREINEIRO\",\"NO_MUNICIPIO_ESC\",\"SG_UF_PROVA\",\"TP_PRESENCA_CN\",\n",
    "            \"TP_PRESENCA_CH\",\"TP_PRESENCA_LC\",\"TP_PRESENCA_MT\",\"NU_NOTA_CN\",\"NU_NOTA_CH\",\"NU_NOTA_LC\",\n",
    "            \"NU_NOTA_MT\",\"TP_STATUS_REDACAO\",\"NU_NOTA_COMP1\",\"NU_NOTA_COMP2\",\"NU_NOTA_COMP3\",\"NU_NOTA_COMP4\",\n",
    "            \"NU_NOTA_COMP5\",\"NU_NOTA_REDACAO\"]\n",
    "\n",
    "    renamed_columns = [\"Ano\",\"Nacionalidade\",\"Sexo\",\"Idade\",\"Cor\",\"Estado_civil\",\"Situacao_EM\",\"Tipo_Escola\",\n",
    "                    \"Treineiro\",\"Municipio\",\"Estado\",\"Presenca_CN\",\"Presenca_CH\",\"Presenca_LC\",\"Presenca_MT\",\n",
    "                    \"Ciencias_Natureza\",\"Ciencias_Humanas\",\"Linguagens_Codigos\",\"Matematica\",\"Status_Redacao\",\n",
    "                    \"Ortografia\",\"Desenvolvimento\",\"Informacoes\",\"Organizacao\",\"Proposta\",\"Redacao\"]\n",
    "    \n",
    "    zip_data = {\n",
    "    \"Zip Files\":[],\n",
    "    \"Folder Data\":  os.listdir(\"information\")\n",
    "    }\n",
    "\n",
    "    for zippedArch in zip_data[\"Folder Data\"]:\n",
    "        with zipfile.ZipFile(f\"information\\{zippedArch}\") as zippedData:\n",
    "            for file in zippedData.namelist():\n",
    "                if \"microdados\" in file.lower() and file.endswith(\".csv\"):\n",
    "                    zip_data[\"Zip Files\"].append(file)\n",
    "                    \n",
    "    # Lambda pra ordenar os arquivos do mais antigo para o mais novo 2015 - 2022\n",
    "    zip_data[\"Zip Files\"].sort(key = lambda x: x[22:-4])\n",
    "    zip_data[\"Folder Data\"].sort(key = lambda x: x[16:-4])\n",
    "    \n",
    "    # Pegando os ultimos 3 anos\n",
    "    zip_data[\"Folder Data\"] = zip_data[\"Folder Data\"][-3:]\n",
    "    zip_data[\"Zip Files\"] = zip_data[\"Zip Files\"][-3:]\n",
    "\n",
    "    # Criando o megadataframe filtrado\n",
    "    enem_collection = []\n",
    "    for i in range(len(zip_data[\"Zip Files\"])):\n",
    "        with zipfile.ZipFile(f\"information\\{zip_data['Folder Data'][i]}\") as microdata:\n",
    "            with microdata.open(zip_data[\"Zip Files\"][i]) as csv:\n",
    "                \n",
    "                data = pd.read_csv(csv,encoding=\"ISO-8859-1\",sep=\";\",usecols=columns)\n",
    "                # Renomeando as colunas\n",
    "                data.columns = renamed_columns\n",
    "                # Removendo as linhas onde não temos notas\n",
    "                data.dropna(subset=[\"Ciencias_Natureza\",'Ciencias_Humanas',\"Ciencias_Humanas\",\"Matematica\",\"Redacao\"],inplace=True)\n",
    "                data.reset_index(inplace=True,drop=True)\n",
    "                # Adicionando no array pra criar o Dataframe completo posteriormente\n",
    "                enem_collection.append(data)\n",
    "                \n",
    "    return pd.concat(enem_collection)\n",
    "    "
   ]
  },
  {
   "cell_type": "code",
   "execution_count": 16,
   "metadata": {},
   "outputs": [],
   "source": [
    "enem = build_dataframe()\n"
   ]
  },
  {
   "cell_type": "code",
   "execution_count": 23,
   "metadata": {},
   "outputs": [],
   "source": [
    "# Calculando a Nota Total de cada pessoa\n",
    "enem['Nota Total'] = enem[['Ciencias_Natureza','Ciencias_Humanas','Matematica','Linguagens_Codigos','Redacao']].sum(axis=1)/5"
   ]
  },
  {
   "cell_type": "code",
   "execution_count": 25,
   "metadata": {},
   "outputs": [
    {
     "data": {
      "text/plain": [
       "array(['RN', 'SP', 'RS', 'PB', 'BA', 'AL', 'PA', 'TO', 'CE', 'AM', 'SE',\n",
       "       'MG', 'MA', 'PI', 'PE', 'MT', 'GO', 'RJ', 'ES', 'AP', 'DF', 'SC',\n",
       "       'PR', 'RR', 'RO', 'MS', 'AC'], dtype=object)"
      ]
     },
     "execution_count": 25,
     "metadata": {},
     "output_type": "execute_result"
    }
   ],
   "source": [
    "enem.Estado.unique()"
   ]
  }
 ],
 "metadata": {
  "kernelspec": {
   "display_name": "Python 3",
   "language": "python",
   "name": "python3"
  },
  "language_info": {
   "codemirror_mode": {
    "name": "ipython",
    "version": 3
   },
   "file_extension": ".py",
   "mimetype": "text/x-python",
   "name": "python",
   "nbconvert_exporter": "python",
   "pygments_lexer": "ipython3",
   "version": "3.11.0"
  }
 },
 "nbformat": 4,
 "nbformat_minor": 2
}
